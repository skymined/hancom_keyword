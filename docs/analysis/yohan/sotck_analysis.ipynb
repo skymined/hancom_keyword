{
 "cells": [
  {
   "cell_type": "code",
   "execution_count": 1,
   "metadata": {},
   "outputs": [],
   "source": [
    "import pandas as pd"
   ]
  },
  {
   "cell_type": "code",
   "execution_count": 2,
   "metadata": {},
   "outputs": [
    {
     "data": {
      "text/html": [
       "<div>\n",
       "<style scoped>\n",
       "    .dataframe tbody tr th:only-of-type {\n",
       "        vertical-align: middle;\n",
       "    }\n",
       "\n",
       "    .dataframe tbody tr th {\n",
       "        vertical-align: top;\n",
       "    }\n",
       "\n",
       "    .dataframe thead th {\n",
       "        text-align: right;\n",
       "    }\n",
       "</style>\n",
       "<table border=\"1\" class=\"dataframe\">\n",
       "  <thead>\n",
       "    <tr style=\"text-align: right;\">\n",
       "      <th></th>\n",
       "      <th>_id</th>\n",
       "      <th>date</th>\n",
       "      <th>end_price</th>\n",
       "      <th>daily_change</th>\n",
       "      <th>start_price</th>\n",
       "      <th>high_price</th>\n",
       "      <th>low_price</th>\n",
       "      <th>trade</th>\n",
       "    </tr>\n",
       "  </thead>\n",
       "  <tbody>\n",
       "    <tr>\n",
       "      <th>0</th>\n",
       "      <td>660cc0676ca5177d63a4196e</td>\n",
       "      <td>NaN</td>\n",
       "      <td>NaN</td>\n",
       "      <td>NaN</td>\n",
       "      <td>NaN</td>\n",
       "      <td>NaN</td>\n",
       "      <td>NaN</td>\n",
       "      <td>NaN</td>\n",
       "    </tr>\n",
       "    <tr>\n",
       "      <th>1</th>\n",
       "      <td>660cc0676ca5177d63a4196f</td>\n",
       "      <td>NaN</td>\n",
       "      <td>NaN</td>\n",
       "      <td>NaN</td>\n",
       "      <td>NaN</td>\n",
       "      <td>NaN</td>\n",
       "      <td>NaN</td>\n",
       "      <td>NaN</td>\n",
       "    </tr>\n",
       "    <tr>\n",
       "      <th>2</th>\n",
       "      <td>660cc0676ca5177d63a41970</td>\n",
       "      <td>2024.04.03</td>\n",
       "      <td>20650.0</td>\n",
       "      <td>-300</td>\n",
       "      <td>20700.0</td>\n",
       "      <td>20750.0</td>\n",
       "      <td>20450.0</td>\n",
       "      <td>218197.0</td>\n",
       "    </tr>\n",
       "    <tr>\n",
       "      <th>3</th>\n",
       "      <td>660cc0686ca5177d63a41971</td>\n",
       "      <td>2024.04.02</td>\n",
       "      <td>20950.0</td>\n",
       "      <td>-1,000</td>\n",
       "      <td>22000.0</td>\n",
       "      <td>22200.0</td>\n",
       "      <td>20800.0</td>\n",
       "      <td>552331.0</td>\n",
       "    </tr>\n",
       "    <tr>\n",
       "      <th>4</th>\n",
       "      <td>660cc0686ca5177d63a41972</td>\n",
       "      <td>2024.04.01</td>\n",
       "      <td>21950.0</td>\n",
       "      <td>+750</td>\n",
       "      <td>21200.0</td>\n",
       "      <td>22050.0</td>\n",
       "      <td>21200.0</td>\n",
       "      <td>421251.0</td>\n",
       "    </tr>\n",
       "    <tr>\n",
       "      <th>...</th>\n",
       "      <td>...</td>\n",
       "      <td>...</td>\n",
       "      <td>...</td>\n",
       "      <td>...</td>\n",
       "      <td>...</td>\n",
       "      <td>...</td>\n",
       "      <td>...</td>\n",
       "      <td>...</td>\n",
       "    </tr>\n",
       "    <tr>\n",
       "      <th>2463</th>\n",
       "      <td>660cc1c66ca5177d63a4230d</td>\n",
       "      <td>NaN</td>\n",
       "      <td>NaN</td>\n",
       "      <td>NaN</td>\n",
       "      <td>NaN</td>\n",
       "      <td>NaN</td>\n",
       "      <td>NaN</td>\n",
       "      <td>NaN</td>\n",
       "    </tr>\n",
       "    <tr>\n",
       "      <th>2464</th>\n",
       "      <td>660cc1c76ca5177d63a4230e</td>\n",
       "      <td>NaN</td>\n",
       "      <td>NaN</td>\n",
       "      <td>NaN</td>\n",
       "      <td>NaN</td>\n",
       "      <td>NaN</td>\n",
       "      <td>NaN</td>\n",
       "      <td>NaN</td>\n",
       "    </tr>\n",
       "    <tr>\n",
       "      <th>2465</th>\n",
       "      <td>660cc1c86ca5177d63a4230f</td>\n",
       "      <td>NaN</td>\n",
       "      <td>NaN</td>\n",
       "      <td>NaN</td>\n",
       "      <td>NaN</td>\n",
       "      <td>NaN</td>\n",
       "      <td>NaN</td>\n",
       "      <td>NaN</td>\n",
       "    </tr>\n",
       "    <tr>\n",
       "      <th>2466</th>\n",
       "      <td>660cc1c86ca5177d63a42310</td>\n",
       "      <td>2018.01.02</td>\n",
       "      <td>17850.0</td>\n",
       "      <td>-100</td>\n",
       "      <td>17800.0</td>\n",
       "      <td>18000.0</td>\n",
       "      <td>17700.0</td>\n",
       "      <td>54415.0</td>\n",
       "    </tr>\n",
       "    <tr>\n",
       "      <th>2467</th>\n",
       "      <td>660cc1c86ca5177d63a42311</td>\n",
       "      <td>2017.12.28</td>\n",
       "      <td>17950.0</td>\n",
       "      <td>0</td>\n",
       "      <td>18200.0</td>\n",
       "      <td>18250.0</td>\n",
       "      <td>17700.0</td>\n",
       "      <td>101160.0</td>\n",
       "    </tr>\n",
       "  </tbody>\n",
       "</table>\n",
       "<p>2468 rows × 8 columns</p>\n",
       "</div>"
      ],
      "text/plain": [
       "                           _id        date  end_price daily_change  \\\n",
       "0     660cc0676ca5177d63a4196e         NaN        NaN          NaN   \n",
       "1     660cc0676ca5177d63a4196f         NaN        NaN          NaN   \n",
       "2     660cc0676ca5177d63a41970  2024.04.03    20650.0         -300   \n",
       "3     660cc0686ca5177d63a41971  2024.04.02    20950.0       -1,000   \n",
       "4     660cc0686ca5177d63a41972  2024.04.01    21950.0         +750   \n",
       "...                        ...         ...        ...          ...   \n",
       "2463  660cc1c66ca5177d63a4230d         NaN        NaN          NaN   \n",
       "2464  660cc1c76ca5177d63a4230e         NaN        NaN          NaN   \n",
       "2465  660cc1c86ca5177d63a4230f         NaN        NaN          NaN   \n",
       "2466  660cc1c86ca5177d63a42310  2018.01.02    17850.0         -100   \n",
       "2467  660cc1c86ca5177d63a42311  2017.12.28    17950.0            0   \n",
       "\n",
       "      start_price  high_price  low_price     trade  \n",
       "0             NaN         NaN        NaN       NaN  \n",
       "1             NaN         NaN        NaN       NaN  \n",
       "2         20700.0     20750.0    20450.0  218197.0  \n",
       "3         22000.0     22200.0    20800.0  552331.0  \n",
       "4         21200.0     22050.0    21200.0  421251.0  \n",
       "...           ...         ...        ...       ...  \n",
       "2463          NaN         NaN        NaN       NaN  \n",
       "2464          NaN         NaN        NaN       NaN  \n",
       "2465          NaN         NaN        NaN       NaN  \n",
       "2466      17800.0     18000.0    17700.0   54415.0  \n",
       "2467      18200.0     18250.0    17700.0  101160.0  \n",
       "\n",
       "[2468 rows x 8 columns]"
      ]
     },
     "execution_count": 2,
     "metadata": {},
     "output_type": "execute_result"
    }
   ],
   "source": [
    "stock_data = pd.read_csv('../../selenium/yohan/crawling/get_stock.hancom.csv')\n",
    "stock_data"
   ]
  },
  {
   "cell_type": "markdown",
   "metadata": {},
   "source": [
    "- 수집 데이터 크롤링에 Null값이 들어갈 것으로 예상하였고 실제로 맨 위 2개 항목, 5개마다 3개씩의 null값 row가 생성되었다"
   ]
  },
  {
   "cell_type": "markdown",
   "metadata": {},
   "source": [
    "## 데이터 전처리"
   ]
  },
  {
   "cell_type": "code",
   "execution_count": 3,
   "metadata": {},
   "outputs": [
    {
     "data": {
      "text/plain": [
       "_id               0\n",
       "date            926\n",
       "end_price       926\n",
       "daily_change    928\n",
       "start_price     926\n",
       "high_price      926\n",
       "low_price       926\n",
       "trade           926\n",
       "dtype: int64"
      ]
     },
     "execution_count": 3,
     "metadata": {},
     "output_type": "execute_result"
    }
   ],
   "source": [
    "# 빈값 숫자 확인\n",
    "stock_data.isnull().sum()"
   ]
  },
  {
   "cell_type": "markdown",
   "metadata": {},
   "source": [
    "- 가격 비에서 다른 예상했던 null값보다 2개가 더 많이 잡혔다."
   ]
  },
  {
   "cell_type": "code",
   "execution_count": 4,
   "metadata": {},
   "outputs": [
    {
     "data": {
      "text/html": [
       "<div>\n",
       "<style scoped>\n",
       "    .dataframe tbody tr th:only-of-type {\n",
       "        vertical-align: middle;\n",
       "    }\n",
       "\n",
       "    .dataframe tbody tr th {\n",
       "        vertical-align: top;\n",
       "    }\n",
       "\n",
       "    .dataframe thead th {\n",
       "        text-align: right;\n",
       "    }\n",
       "</style>\n",
       "<table border=\"1\" class=\"dataframe\">\n",
       "  <thead>\n",
       "    <tr style=\"text-align: right;\">\n",
       "      <th></th>\n",
       "      <th>_id</th>\n",
       "      <th>date</th>\n",
       "      <th>end_price</th>\n",
       "      <th>daily_change</th>\n",
       "      <th>start_price</th>\n",
       "      <th>high_price</th>\n",
       "      <th>low_price</th>\n",
       "      <th>trade</th>\n",
       "    </tr>\n",
       "  </thead>\n",
       "  <tbody>\n",
       "    <tr>\n",
       "      <th>94</th>\n",
       "      <td>660cc0746ca5177d63a419cc</td>\n",
       "      <td>2024.01.08</td>\n",
       "      <td>19460.0</td>\n",
       "      <td>NaN</td>\n",
       "      <td>15210.0</td>\n",
       "      <td>19460.0</td>\n",
       "      <td>15090.0</td>\n",
       "      <td>16399380.0</td>\n",
       "    </tr>\n",
       "    <tr>\n",
       "      <th>939</th>\n",
       "      <td>660cc0ec6ca5177d63a41d19</td>\n",
       "      <td>2021.11.17</td>\n",
       "      <td>28400.0</td>\n",
       "      <td>NaN</td>\n",
       "      <td>22400.0</td>\n",
       "      <td>28400.0</td>\n",
       "      <td>21850.0</td>\n",
       "      <td>8980888.0</td>\n",
       "    </tr>\n",
       "  </tbody>\n",
       "</table>\n",
       "</div>"
      ],
      "text/plain": [
       "                          _id        date  end_price daily_change  \\\n",
       "94   660cc0746ca5177d63a419cc  2024.01.08    19460.0          NaN   \n",
       "939  660cc0ec6ca5177d63a41d19  2021.11.17    28400.0          NaN   \n",
       "\n",
       "     start_price  high_price  low_price       trade  \n",
       "94       15210.0     19460.0    15090.0  16399380.0  \n",
       "939      22400.0     28400.0    21850.0   8980888.0  "
      ]
     },
     "execution_count": 4,
     "metadata": {},
     "output_type": "execute_result"
    }
   ],
   "source": [
    "# 값 확인\n",
    "stock_data.query('daily_change.isnull() & date.notnull()')"
   ]
  },
  {
   "cell_type": "markdown",
   "metadata": {},
   "source": [
    "- 확인 결과, 94번, 939번 row의 시가와 종가의 차이가 매우 큰 row들의 값이 비었다.\n",
    "- 수집할 때 상승, 하락으로만 계산하여 처리하였는데 아마도 내용 중 매우 큰 상승, 매우 큰 하락이 더 있었던 것으로 예상된다.\n",
    "- 이 두 항목은 필요한 항목이기 때문에 처리한다."
   ]
  },
  {
   "cell_type": "code",
   "execution_count": 5,
   "metadata": {},
   "outputs": [],
   "source": [
    "edit_list = [94,939]\n",
    "\n",
    "for i in edit_list:\n",
    "    # 전일비 계산\n",
    "    cal = stock_data.loc[i,'end_price'] - stock_data.loc[i,'start_price']\n",
    "    modify = ''\n",
    "    if cal > 0:\n",
    "        modify = '+' + str(cal)\n",
    "    elif cal < 0:\n",
    "        modify = '-' + str(cal)\n",
    "    else:\n",
    "        modify = '0'\n",
    "    stock_data.loc[i,'daily_change'] = modify"
   ]
  },
  {
   "cell_type": "code",
   "execution_count": 6,
   "metadata": {},
   "outputs": [
    {
     "data": {
      "text/plain": [
       "_id               0\n",
       "date            926\n",
       "end_price       926\n",
       "daily_change    926\n",
       "start_price     926\n",
       "high_price      926\n",
       "low_price       926\n",
       "trade           926\n",
       "dtype: int64"
      ]
     },
     "execution_count": 6,
     "metadata": {},
     "output_type": "execute_result"
    }
   ],
   "source": [
    "# 다시 null값을 확인해본다.\n",
    "stock_data.isnull().sum()"
   ]
  },
  {
   "cell_type": "markdown",
   "metadata": {},
   "source": [
    "- 혹시 모르니까 null값이 모두 같은 곳에 들어갔는지 더블 체크해본다."
   ]
  },
  {
   "cell_type": "code",
   "execution_count": 7,
   "metadata": {},
   "outputs": [
    {
     "data": {
      "text/html": [
       "<div>\n",
       "<style scoped>\n",
       "    .dataframe tbody tr th:only-of-type {\n",
       "        vertical-align: middle;\n",
       "    }\n",
       "\n",
       "    .dataframe tbody tr th {\n",
       "        vertical-align: top;\n",
       "    }\n",
       "\n",
       "    .dataframe thead th {\n",
       "        text-align: right;\n",
       "    }\n",
       "</style>\n",
       "<table border=\"1\" class=\"dataframe\">\n",
       "  <thead>\n",
       "    <tr style=\"text-align: right;\">\n",
       "      <th></th>\n",
       "      <th>_id</th>\n",
       "      <th>date</th>\n",
       "      <th>end_price</th>\n",
       "      <th>daily_change</th>\n",
       "      <th>start_price</th>\n",
       "      <th>high_price</th>\n",
       "      <th>low_price</th>\n",
       "      <th>trade</th>\n",
       "    </tr>\n",
       "  </thead>\n",
       "  <tbody>\n",
       "    <tr>\n",
       "      <th>0</th>\n",
       "      <td>660cc0676ca5177d63a4196e</td>\n",
       "      <td>NaN</td>\n",
       "      <td>NaN</td>\n",
       "      <td>NaN</td>\n",
       "      <td>NaN</td>\n",
       "      <td>NaN</td>\n",
       "      <td>NaN</td>\n",
       "      <td>NaN</td>\n",
       "    </tr>\n",
       "    <tr>\n",
       "      <th>1</th>\n",
       "      <td>660cc0676ca5177d63a4196f</td>\n",
       "      <td>NaN</td>\n",
       "      <td>NaN</td>\n",
       "      <td>NaN</td>\n",
       "      <td>NaN</td>\n",
       "      <td>NaN</td>\n",
       "      <td>NaN</td>\n",
       "      <td>NaN</td>\n",
       "    </tr>\n",
       "    <tr>\n",
       "      <th>7</th>\n",
       "      <td>660cc0686ca5177d63a41975</td>\n",
       "      <td>NaN</td>\n",
       "      <td>NaN</td>\n",
       "      <td>NaN</td>\n",
       "      <td>NaN</td>\n",
       "      <td>NaN</td>\n",
       "      <td>NaN</td>\n",
       "      <td>NaN</td>\n",
       "    </tr>\n",
       "    <tr>\n",
       "      <th>8</th>\n",
       "      <td>660cc0686ca5177d63a41976</td>\n",
       "      <td>NaN</td>\n",
       "      <td>NaN</td>\n",
       "      <td>NaN</td>\n",
       "      <td>NaN</td>\n",
       "      <td>NaN</td>\n",
       "      <td>NaN</td>\n",
       "      <td>NaN</td>\n",
       "    </tr>\n",
       "    <tr>\n",
       "      <th>9</th>\n",
       "      <td>660cc0686ca5177d63a41977</td>\n",
       "      <td>NaN</td>\n",
       "      <td>NaN</td>\n",
       "      <td>NaN</td>\n",
       "      <td>NaN</td>\n",
       "      <td>NaN</td>\n",
       "      <td>NaN</td>\n",
       "      <td>NaN</td>\n",
       "    </tr>\n",
       "    <tr>\n",
       "      <th>...</th>\n",
       "      <td>...</td>\n",
       "      <td>...</td>\n",
       "      <td>...</td>\n",
       "      <td>...</td>\n",
       "      <td>...</td>\n",
       "      <td>...</td>\n",
       "      <td>...</td>\n",
       "      <td>...</td>\n",
       "    </tr>\n",
       "    <tr>\n",
       "      <th>2456</th>\n",
       "      <td>660cc1c66ca5177d63a42306</td>\n",
       "      <td>NaN</td>\n",
       "      <td>NaN</td>\n",
       "      <td>NaN</td>\n",
       "      <td>NaN</td>\n",
       "      <td>NaN</td>\n",
       "      <td>NaN</td>\n",
       "      <td>NaN</td>\n",
       "    </tr>\n",
       "    <tr>\n",
       "      <th>2457</th>\n",
       "      <td>660cc1c66ca5177d63a42307</td>\n",
       "      <td>NaN</td>\n",
       "      <td>NaN</td>\n",
       "      <td>NaN</td>\n",
       "      <td>NaN</td>\n",
       "      <td>NaN</td>\n",
       "      <td>NaN</td>\n",
       "      <td>NaN</td>\n",
       "    </tr>\n",
       "    <tr>\n",
       "      <th>2463</th>\n",
       "      <td>660cc1c66ca5177d63a4230d</td>\n",
       "      <td>NaN</td>\n",
       "      <td>NaN</td>\n",
       "      <td>NaN</td>\n",
       "      <td>NaN</td>\n",
       "      <td>NaN</td>\n",
       "      <td>NaN</td>\n",
       "      <td>NaN</td>\n",
       "    </tr>\n",
       "    <tr>\n",
       "      <th>2464</th>\n",
       "      <td>660cc1c76ca5177d63a4230e</td>\n",
       "      <td>NaN</td>\n",
       "      <td>NaN</td>\n",
       "      <td>NaN</td>\n",
       "      <td>NaN</td>\n",
       "      <td>NaN</td>\n",
       "      <td>NaN</td>\n",
       "      <td>NaN</td>\n",
       "    </tr>\n",
       "    <tr>\n",
       "      <th>2465</th>\n",
       "      <td>660cc1c86ca5177d63a4230f</td>\n",
       "      <td>NaN</td>\n",
       "      <td>NaN</td>\n",
       "      <td>NaN</td>\n",
       "      <td>NaN</td>\n",
       "      <td>NaN</td>\n",
       "      <td>NaN</td>\n",
       "      <td>NaN</td>\n",
       "    </tr>\n",
       "  </tbody>\n",
       "</table>\n",
       "<p>926 rows × 8 columns</p>\n",
       "</div>"
      ],
      "text/plain": [
       "                           _id date  end_price daily_change  start_price  \\\n",
       "0     660cc0676ca5177d63a4196e  NaN        NaN          NaN          NaN   \n",
       "1     660cc0676ca5177d63a4196f  NaN        NaN          NaN          NaN   \n",
       "7     660cc0686ca5177d63a41975  NaN        NaN          NaN          NaN   \n",
       "8     660cc0686ca5177d63a41976  NaN        NaN          NaN          NaN   \n",
       "9     660cc0686ca5177d63a41977  NaN        NaN          NaN          NaN   \n",
       "...                        ...  ...        ...          ...          ...   \n",
       "2456  660cc1c66ca5177d63a42306  NaN        NaN          NaN          NaN   \n",
       "2457  660cc1c66ca5177d63a42307  NaN        NaN          NaN          NaN   \n",
       "2463  660cc1c66ca5177d63a4230d  NaN        NaN          NaN          NaN   \n",
       "2464  660cc1c76ca5177d63a4230e  NaN        NaN          NaN          NaN   \n",
       "2465  660cc1c86ca5177d63a4230f  NaN        NaN          NaN          NaN   \n",
       "\n",
       "      high_price  low_price  trade  \n",
       "0            NaN        NaN    NaN  \n",
       "1            NaN        NaN    NaN  \n",
       "7            NaN        NaN    NaN  \n",
       "8            NaN        NaN    NaN  \n",
       "9            NaN        NaN    NaN  \n",
       "...          ...        ...    ...  \n",
       "2456         NaN        NaN    NaN  \n",
       "2457         NaN        NaN    NaN  \n",
       "2463         NaN        NaN    NaN  \n",
       "2464         NaN        NaN    NaN  \n",
       "2465         NaN        NaN    NaN  \n",
       "\n",
       "[926 rows x 8 columns]"
      ]
     },
     "execution_count": 7,
     "metadata": {},
     "output_type": "execute_result"
    }
   ],
   "source": [
    "check_data = stock_data[stock_data.isnull().any(axis=1)]\n",
    "check_data"
   ]
  },
  {
   "cell_type": "markdown",
   "metadata": {},
   "source": [
    "- 총 926개 rows로 예상했던 결과가 맞으므로 모두 삭제해준다."
   ]
  },
  {
   "cell_type": "code",
   "execution_count": 8,
   "metadata": {},
   "outputs": [
    {
     "data": {
      "text/plain": [
       "_id             0\n",
       "date            0\n",
       "end_price       0\n",
       "daily_change    0\n",
       "start_price     0\n",
       "high_price      0\n",
       "low_price       0\n",
       "trade           0\n",
       "dtype: int64"
      ]
     },
     "execution_count": 8,
     "metadata": {},
     "output_type": "execute_result"
    }
   ],
   "source": [
    "# 데이터 수집시 발생한 null값 모두 drop\n",
    "stock_data = stock_data.dropna()\n",
    "stock_data.isnull().sum()"
   ]
  },
  {
   "cell_type": "code",
   "execution_count": 9,
   "metadata": {},
   "outputs": [
    {
     "data": {
      "text/html": [
       "<div>\n",
       "<style scoped>\n",
       "    .dataframe tbody tr th:only-of-type {\n",
       "        vertical-align: middle;\n",
       "    }\n",
       "\n",
       "    .dataframe tbody tr th {\n",
       "        vertical-align: top;\n",
       "    }\n",
       "\n",
       "    .dataframe thead th {\n",
       "        text-align: right;\n",
       "    }\n",
       "</style>\n",
       "<table border=\"1\" class=\"dataframe\">\n",
       "  <thead>\n",
       "    <tr style=\"text-align: right;\">\n",
       "      <th></th>\n",
       "      <th>_id</th>\n",
       "      <th>date</th>\n",
       "      <th>end_price</th>\n",
       "      <th>daily_change</th>\n",
       "      <th>start_price</th>\n",
       "      <th>high_price</th>\n",
       "      <th>low_price</th>\n",
       "      <th>trade</th>\n",
       "    </tr>\n",
       "  </thead>\n",
       "  <tbody>\n",
       "    <tr>\n",
       "      <th>2</th>\n",
       "      <td>660cc0676ca5177d63a41970</td>\n",
       "      <td>2024.04.03</td>\n",
       "      <td>20650.0</td>\n",
       "      <td>-300</td>\n",
       "      <td>20700.0</td>\n",
       "      <td>20750.0</td>\n",
       "      <td>20450.0</td>\n",
       "      <td>218197.0</td>\n",
       "    </tr>\n",
       "    <tr>\n",
       "      <th>3</th>\n",
       "      <td>660cc0686ca5177d63a41971</td>\n",
       "      <td>2024.04.02</td>\n",
       "      <td>20950.0</td>\n",
       "      <td>-1,000</td>\n",
       "      <td>22000.0</td>\n",
       "      <td>22200.0</td>\n",
       "      <td>20800.0</td>\n",
       "      <td>552331.0</td>\n",
       "    </tr>\n",
       "    <tr>\n",
       "      <th>4</th>\n",
       "      <td>660cc0686ca5177d63a41972</td>\n",
       "      <td>2024.04.01</td>\n",
       "      <td>21950.0</td>\n",
       "      <td>+750</td>\n",
       "      <td>21200.0</td>\n",
       "      <td>22050.0</td>\n",
       "      <td>21200.0</td>\n",
       "      <td>421251.0</td>\n",
       "    </tr>\n",
       "    <tr>\n",
       "      <th>5</th>\n",
       "      <td>660cc0686ca5177d63a41973</td>\n",
       "      <td>2024.03.29</td>\n",
       "      <td>21200.0</td>\n",
       "      <td>-350</td>\n",
       "      <td>21600.0</td>\n",
       "      <td>22050.0</td>\n",
       "      <td>21050.0</td>\n",
       "      <td>489268.0</td>\n",
       "    </tr>\n",
       "    <tr>\n",
       "      <th>6</th>\n",
       "      <td>660cc0686ca5177d63a41974</td>\n",
       "      <td>2024.03.28</td>\n",
       "      <td>21550.0</td>\n",
       "      <td>-750</td>\n",
       "      <td>22200.0</td>\n",
       "      <td>22300.0</td>\n",
       "      <td>21250.0</td>\n",
       "      <td>690655.0</td>\n",
       "    </tr>\n",
       "    <tr>\n",
       "      <th>...</th>\n",
       "      <td>...</td>\n",
       "      <td>...</td>\n",
       "      <td>...</td>\n",
       "      <td>...</td>\n",
       "      <td>...</td>\n",
       "      <td>...</td>\n",
       "      <td>...</td>\n",
       "      <td>...</td>\n",
       "    </tr>\n",
       "    <tr>\n",
       "      <th>2460</th>\n",
       "      <td>660cc1c66ca5177d63a4230a</td>\n",
       "      <td>2018.01.05</td>\n",
       "      <td>17350.0</td>\n",
       "      <td>+150</td>\n",
       "      <td>17200.0</td>\n",
       "      <td>17400.0</td>\n",
       "      <td>17200.0</td>\n",
       "      <td>92601.0</td>\n",
       "    </tr>\n",
       "    <tr>\n",
       "      <th>2461</th>\n",
       "      <td>660cc1c66ca5177d63a4230b</td>\n",
       "      <td>2018.01.04</td>\n",
       "      <td>17200.0</td>\n",
       "      <td>-150</td>\n",
       "      <td>17450.0</td>\n",
       "      <td>17450.0</td>\n",
       "      <td>17200.0</td>\n",
       "      <td>143493.0</td>\n",
       "    </tr>\n",
       "    <tr>\n",
       "      <th>2462</th>\n",
       "      <td>660cc1c66ca5177d63a4230c</td>\n",
       "      <td>2018.01.03</td>\n",
       "      <td>17350.0</td>\n",
       "      <td>-500</td>\n",
       "      <td>17800.0</td>\n",
       "      <td>17850.0</td>\n",
       "      <td>17250.0</td>\n",
       "      <td>139600.0</td>\n",
       "    </tr>\n",
       "    <tr>\n",
       "      <th>2466</th>\n",
       "      <td>660cc1c86ca5177d63a42310</td>\n",
       "      <td>2018.01.02</td>\n",
       "      <td>17850.0</td>\n",
       "      <td>-100</td>\n",
       "      <td>17800.0</td>\n",
       "      <td>18000.0</td>\n",
       "      <td>17700.0</td>\n",
       "      <td>54415.0</td>\n",
       "    </tr>\n",
       "    <tr>\n",
       "      <th>2467</th>\n",
       "      <td>660cc1c86ca5177d63a42311</td>\n",
       "      <td>2017.12.28</td>\n",
       "      <td>17950.0</td>\n",
       "      <td>0</td>\n",
       "      <td>18200.0</td>\n",
       "      <td>18250.0</td>\n",
       "      <td>17700.0</td>\n",
       "      <td>101160.0</td>\n",
       "    </tr>\n",
       "  </tbody>\n",
       "</table>\n",
       "<p>1542 rows × 8 columns</p>\n",
       "</div>"
      ],
      "text/plain": [
       "                           _id        date  end_price daily_change  \\\n",
       "2     660cc0676ca5177d63a41970  2024.04.03    20650.0         -300   \n",
       "3     660cc0686ca5177d63a41971  2024.04.02    20950.0       -1,000   \n",
       "4     660cc0686ca5177d63a41972  2024.04.01    21950.0         +750   \n",
       "5     660cc0686ca5177d63a41973  2024.03.29    21200.0         -350   \n",
       "6     660cc0686ca5177d63a41974  2024.03.28    21550.0         -750   \n",
       "...                        ...         ...        ...          ...   \n",
       "2460  660cc1c66ca5177d63a4230a  2018.01.05    17350.0         +150   \n",
       "2461  660cc1c66ca5177d63a4230b  2018.01.04    17200.0         -150   \n",
       "2462  660cc1c66ca5177d63a4230c  2018.01.03    17350.0         -500   \n",
       "2466  660cc1c86ca5177d63a42310  2018.01.02    17850.0         -100   \n",
       "2467  660cc1c86ca5177d63a42311  2017.12.28    17950.0            0   \n",
       "\n",
       "      start_price  high_price  low_price     trade  \n",
       "2         20700.0     20750.0    20450.0  218197.0  \n",
       "3         22000.0     22200.0    20800.0  552331.0  \n",
       "4         21200.0     22050.0    21200.0  421251.0  \n",
       "5         21600.0     22050.0    21050.0  489268.0  \n",
       "6         22200.0     22300.0    21250.0  690655.0  \n",
       "...           ...         ...        ...       ...  \n",
       "2460      17200.0     17400.0    17200.0   92601.0  \n",
       "2461      17450.0     17450.0    17200.0  143493.0  \n",
       "2462      17800.0     17850.0    17250.0  139600.0  \n",
       "2466      17800.0     18000.0    17700.0   54415.0  \n",
       "2467      18200.0     18250.0    17700.0  101160.0  \n",
       "\n",
       "[1542 rows x 8 columns]"
      ]
     },
     "execution_count": 9,
     "metadata": {},
     "output_type": "execute_result"
    }
   ],
   "source": [
    "stock_data"
   ]
  },
  {
   "cell_type": "markdown",
   "metadata": {},
   "source": [
    "- 총 1542일분의 주식 데이터를 획득하였다."
   ]
  },
  {
   "cell_type": "markdown",
   "metadata": {},
   "source": [
    "- 우선 주식 데이터가 잘 가져와졌는지 종가를 기준으로 그래프를 그려보자\n",
    "- 현재 데이터가 최신값부터 정렬되어 있어 그래프를 그렸을때 익숙한 그래프의 역방향으로 나타날 것이다.\n",
    "- 이를 위해 데이터를 날짜 기준으로 재정렬해준다."
   ]
  },
  {
   "cell_type": "code",
   "execution_count": 10,
   "metadata": {},
   "outputs": [
    {
     "name": "stderr",
     "output_type": "stream",
     "text": [
      "C:\\Users\\서울디지털인재개발원\\AppData\\Local\\Temp\\ipykernel_15208\\824257486.py:1: SettingWithCopyWarning: \n",
      "A value is trying to be set on a copy of a slice from a DataFrame.\n",
      "Try using .loc[row_indexer,col_indexer] = value instead\n",
      "\n",
      "See the caveats in the documentation: https://pandas.pydata.org/pandas-docs/stable/user_guide/indexing.html#returning-a-view-versus-a-copy\n",
      "  stock_data['date'] = pd.to_datetime(stock_data['date'])\n"
     ]
    },
    {
     "data": {
      "text/html": [
       "<div>\n",
       "<style scoped>\n",
       "    .dataframe tbody tr th:only-of-type {\n",
       "        vertical-align: middle;\n",
       "    }\n",
       "\n",
       "    .dataframe tbody tr th {\n",
       "        vertical-align: top;\n",
       "    }\n",
       "\n",
       "    .dataframe thead th {\n",
       "        text-align: right;\n",
       "    }\n",
       "</style>\n",
       "<table border=\"1\" class=\"dataframe\">\n",
       "  <thead>\n",
       "    <tr style=\"text-align: right;\">\n",
       "      <th></th>\n",
       "      <th>_id</th>\n",
       "      <th>date</th>\n",
       "      <th>end_price</th>\n",
       "      <th>daily_change</th>\n",
       "      <th>start_price</th>\n",
       "      <th>high_price</th>\n",
       "      <th>low_price</th>\n",
       "      <th>trade</th>\n",
       "    </tr>\n",
       "  </thead>\n",
       "  <tbody>\n",
       "    <tr>\n",
       "      <th>2467</th>\n",
       "      <td>660cc1c86ca5177d63a42311</td>\n",
       "      <td>2017-12-28</td>\n",
       "      <td>17950.0</td>\n",
       "      <td>0</td>\n",
       "      <td>18200.0</td>\n",
       "      <td>18250.0</td>\n",
       "      <td>17700.0</td>\n",
       "      <td>101160.0</td>\n",
       "    </tr>\n",
       "    <tr>\n",
       "      <th>2466</th>\n",
       "      <td>660cc1c86ca5177d63a42310</td>\n",
       "      <td>2018-01-02</td>\n",
       "      <td>17850.0</td>\n",
       "      <td>-100</td>\n",
       "      <td>17800.0</td>\n",
       "      <td>18000.0</td>\n",
       "      <td>17700.0</td>\n",
       "      <td>54415.0</td>\n",
       "    </tr>\n",
       "    <tr>\n",
       "      <th>2462</th>\n",
       "      <td>660cc1c66ca5177d63a4230c</td>\n",
       "      <td>2018-01-03</td>\n",
       "      <td>17350.0</td>\n",
       "      <td>-500</td>\n",
       "      <td>17800.0</td>\n",
       "      <td>17850.0</td>\n",
       "      <td>17250.0</td>\n",
       "      <td>139600.0</td>\n",
       "    </tr>\n",
       "    <tr>\n",
       "      <th>2461</th>\n",
       "      <td>660cc1c66ca5177d63a4230b</td>\n",
       "      <td>2018-01-04</td>\n",
       "      <td>17200.0</td>\n",
       "      <td>-150</td>\n",
       "      <td>17450.0</td>\n",
       "      <td>17450.0</td>\n",
       "      <td>17200.0</td>\n",
       "      <td>143493.0</td>\n",
       "    </tr>\n",
       "    <tr>\n",
       "      <th>2460</th>\n",
       "      <td>660cc1c66ca5177d63a4230a</td>\n",
       "      <td>2018-01-05</td>\n",
       "      <td>17350.0</td>\n",
       "      <td>+150</td>\n",
       "      <td>17200.0</td>\n",
       "      <td>17400.0</td>\n",
       "      <td>17200.0</td>\n",
       "      <td>92601.0</td>\n",
       "    </tr>\n",
       "    <tr>\n",
       "      <th>2459</th>\n",
       "      <td>660cc1c66ca5177d63a42309</td>\n",
       "      <td>2018-01-08</td>\n",
       "      <td>17650.0</td>\n",
       "      <td>+300</td>\n",
       "      <td>17300.0</td>\n",
       "      <td>17700.0</td>\n",
       "      <td>17100.0</td>\n",
       "      <td>147136.0</td>\n",
       "    </tr>\n",
       "    <tr>\n",
       "      <th>2458</th>\n",
       "      <td>660cc1c66ca5177d63a42308</td>\n",
       "      <td>2018-01-09</td>\n",
       "      <td>17050.0</td>\n",
       "      <td>-600</td>\n",
       "      <td>17600.0</td>\n",
       "      <td>17700.0</td>\n",
       "      <td>17050.0</td>\n",
       "      <td>163209.0</td>\n",
       "    </tr>\n",
       "    <tr>\n",
       "      <th>2454</th>\n",
       "      <td>660cc1c66ca5177d63a42304</td>\n",
       "      <td>2018-01-10</td>\n",
       "      <td>17250.0</td>\n",
       "      <td>+200</td>\n",
       "      <td>17150.0</td>\n",
       "      <td>17250.0</td>\n",
       "      <td>17000.0</td>\n",
       "      <td>94785.0</td>\n",
       "    </tr>\n",
       "    <tr>\n",
       "      <th>2453</th>\n",
       "      <td>660cc1c66ca5177d63a42303</td>\n",
       "      <td>2018-01-11</td>\n",
       "      <td>17350.0</td>\n",
       "      <td>+100</td>\n",
       "      <td>17100.0</td>\n",
       "      <td>17450.0</td>\n",
       "      <td>17100.0</td>\n",
       "      <td>77772.0</td>\n",
       "    </tr>\n",
       "    <tr>\n",
       "      <th>2452</th>\n",
       "      <td>660cc1c66ca5177d63a42302</td>\n",
       "      <td>2018-01-12</td>\n",
       "      <td>17200.0</td>\n",
       "      <td>-150</td>\n",
       "      <td>17350.0</td>\n",
       "      <td>17400.0</td>\n",
       "      <td>16850.0</td>\n",
       "      <td>141607.0</td>\n",
       "    </tr>\n",
       "  </tbody>\n",
       "</table>\n",
       "</div>"
      ],
      "text/plain": [
       "                           _id       date  end_price daily_change  \\\n",
       "2467  660cc1c86ca5177d63a42311 2017-12-28    17950.0            0   \n",
       "2466  660cc1c86ca5177d63a42310 2018-01-02    17850.0         -100   \n",
       "2462  660cc1c66ca5177d63a4230c 2018-01-03    17350.0         -500   \n",
       "2461  660cc1c66ca5177d63a4230b 2018-01-04    17200.0         -150   \n",
       "2460  660cc1c66ca5177d63a4230a 2018-01-05    17350.0         +150   \n",
       "2459  660cc1c66ca5177d63a42309 2018-01-08    17650.0         +300   \n",
       "2458  660cc1c66ca5177d63a42308 2018-01-09    17050.0         -600   \n",
       "2454  660cc1c66ca5177d63a42304 2018-01-10    17250.0         +200   \n",
       "2453  660cc1c66ca5177d63a42303 2018-01-11    17350.0         +100   \n",
       "2452  660cc1c66ca5177d63a42302 2018-01-12    17200.0         -150   \n",
       "\n",
       "      start_price  high_price  low_price     trade  \n",
       "2467      18200.0     18250.0    17700.0  101160.0  \n",
       "2466      17800.0     18000.0    17700.0   54415.0  \n",
       "2462      17800.0     17850.0    17250.0  139600.0  \n",
       "2461      17450.0     17450.0    17200.0  143493.0  \n",
       "2460      17200.0     17400.0    17200.0   92601.0  \n",
       "2459      17300.0     17700.0    17100.0  147136.0  \n",
       "2458      17600.0     17700.0    17050.0  163209.0  \n",
       "2454      17150.0     17250.0    17000.0   94785.0  \n",
       "2453      17100.0     17450.0    17100.0   77772.0  \n",
       "2452      17350.0     17400.0    16850.0  141607.0  "
      ]
     },
     "execution_count": 10,
     "metadata": {},
     "output_type": "execute_result"
    }
   ],
   "source": [
    "stock_data['date'] = pd.to_datetime(stock_data['date'])\n",
    "stock_data = stock_data.sort_values('date')\n",
    "stock_data[:10]\n"
   ]
  },
  {
   "cell_type": "code",
   "execution_count": 11,
   "metadata": {},
   "outputs": [],
   "source": [
    "import seaborn as sns"
   ]
  },
  {
   "cell_type": "code",
   "execution_count": 12,
   "metadata": {},
   "outputs": [
    {
     "data": {
      "text/plain": [
       "<Axes: xlabel='date', ylabel='end_price'>"
      ]
     },
     "execution_count": 12,
     "metadata": {},
     "output_type": "execute_result"
    },
    {
     "data": {
      "image/png": "[encoded data removed]",
      "text/plain": [
       "<Figure size 640x480 with 1 Axes>"
      ]
     },
     "metadata": {},
     "output_type": "display_data"
    }
   ],
   "source": [
    "sns.lineplot(x=stock_data['date'], y=stock_data['end_price'])"
   ]
  },
  {
   "cell_type": "markdown",
   "metadata": {},
   "source": [
    "- 값의 등락을 조금 더 심플하게 확인하기 위해 등락비를 기준으로 상승,하락,유지에 대한 테이블을 따로 확인하여본다"
   ]
  },
  {
   "cell_type": "code",
   "execution_count": 13,
   "metadata": {},
   "outputs": [
    {
     "name": "stdout",
     "output_type": "stream",
     "text": [
      "675 756 111\n"
     ]
    }
   ],
   "source": [
    "high = 0\n",
    "low = 0\n",
    "notchange = 0\n",
    "\n",
    "for i in stock_data['daily_change']:\n",
    "    if '-' in i:\n",
    "        low += 1\n",
    "    elif '+' in i:\n",
    "        high += 1\n",
    "    else:\n",
    "        notchange +=1\n",
    "\n",
    "print(high,low,notchange)"
   ]
  },
  {
   "cell_type": "code",
   "execution_count": 14,
   "metadata": {},
   "outputs": [
    {
     "data": {
      "image/png": "[encoded data removed]",
      "text/plain": [
       "<Figure size 600x600 with 1 Axes>"
      ]
     },
     "metadata": {},
     "output_type": "display_data"
    }
   ],
   "source": [
    "import matplotlib.pyplot as plt\n",
    "\n",
    "Category = ['over', 'under', 'same']\n",
    "Value = [high, low, notchange]\n",
    "\n",
    "# 파이 차트 그리기\n",
    "plt.figure(figsize=(6, 6))\n",
    "plt.pie(Value, labels=Category, autopct='%1.1f%%')\n",
    "plt.title('Stock changed on hancom')\n",
    "plt.show()"
   ]
  },
  {
   "cell_type": "markdown",
   "metadata": {},
   "source": [
    "- 단위 기간 내 전일비는 약 49%가 하락하였고, 약 44% 상승, 약 7%는 변동이 없었다.\n",
    "- 주식가는 기간내 우상향 하였으므로 전체적으로 하락폭에 대한 가격방어가 좋았으며 상승폭에 대한 가격상승이 높았다고 볼 수 있다."
   ]
  },
  {
   "cell_type": "markdown",
   "metadata": {},
   "source": [
    "## 분석 전략\n",
    "- 전일비 절대값이 전일 종가의 5% 이상이라면 가격에 대해 외부요인이 작용하였다고 가정한다.\n",
    "- 거래량이 전일 거래량 대비 50%이상 차이가 난다면 가격에 대해 외부요인이 작용하였다고 가정한다.\n",
    "\n",
    "- 두 가정에 대해 외부요인이 작용한 구간을 구하고, 그 구간내 뉴스 토픽을 분석한다.\n",
    "    + 구간 내 뉴스에 대한 유의미한 상관관계가 있다고 판단되면, 의미 있는 토픽과 단어를 분석한다"
   ]
  },
  {
   "cell_type": "code",
   "execution_count": 15,
   "metadata": {},
   "outputs": [
    {
     "data": {
      "text/html": [
       "<div>\n",
       "<style scoped>\n",
       "    .dataframe tbody tr th:only-of-type {\n",
       "        vertical-align: middle;\n",
       "    }\n",
       "\n",
       "    .dataframe tbody tr th {\n",
       "        vertical-align: top;\n",
       "    }\n",
       "\n",
       "    .dataframe thead th {\n",
       "        text-align: right;\n",
       "    }\n",
       "</style>\n",
       "<table border=\"1\" class=\"dataframe\">\n",
       "  <thead>\n",
       "    <tr style=\"text-align: right;\">\n",
       "      <th></th>\n",
       "      <th>_id</th>\n",
       "      <th>date</th>\n",
       "      <th>end_price</th>\n",
       "      <th>daily_change</th>\n",
       "      <th>start_price</th>\n",
       "      <th>high_price</th>\n",
       "      <th>low_price</th>\n",
       "      <th>trade</th>\n",
       "    </tr>\n",
       "  </thead>\n",
       "  <tbody>\n",
       "    <tr>\n",
       "      <th>2467</th>\n",
       "      <td>660cc1c86ca5177d63a42311</td>\n",
       "      <td>2017-12-28</td>\n",
       "      <td>17950.0</td>\n",
       "      <td>0</td>\n",
       "      <td>18200.0</td>\n",
       "      <td>18250.0</td>\n",
       "      <td>17700.0</td>\n",
       "      <td>101160.0</td>\n",
       "    </tr>\n",
       "    <tr>\n",
       "      <th>2466</th>\n",
       "      <td>660cc1c86ca5177d63a42310</td>\n",
       "      <td>2018-01-02</td>\n",
       "      <td>17850.0</td>\n",
       "      <td>-100</td>\n",
       "      <td>17800.0</td>\n",
       "      <td>18000.0</td>\n",
       "      <td>17700.0</td>\n",
       "      <td>54415.0</td>\n",
       "    </tr>\n",
       "    <tr>\n",
       "      <th>2462</th>\n",
       "      <td>660cc1c66ca5177d63a4230c</td>\n",
       "      <td>2018-01-03</td>\n",
       "      <td>17350.0</td>\n",
       "      <td>-500</td>\n",
       "      <td>17800.0</td>\n",
       "      <td>17850.0</td>\n",
       "      <td>17250.0</td>\n",
       "      <td>139600.0</td>\n",
       "    </tr>\n",
       "    <tr>\n",
       "      <th>2461</th>\n",
       "      <td>660cc1c66ca5177d63a4230b</td>\n",
       "      <td>2018-01-04</td>\n",
       "      <td>17200.0</td>\n",
       "      <td>-150</td>\n",
       "      <td>17450.0</td>\n",
       "      <td>17450.0</td>\n",
       "      <td>17200.0</td>\n",
       "      <td>143493.0</td>\n",
       "    </tr>\n",
       "    <tr>\n",
       "      <th>2460</th>\n",
       "      <td>660cc1c66ca5177d63a4230a</td>\n",
       "      <td>2018-01-05</td>\n",
       "      <td>17350.0</td>\n",
       "      <td>+150</td>\n",
       "      <td>17200.0</td>\n",
       "      <td>17400.0</td>\n",
       "      <td>17200.0</td>\n",
       "      <td>92601.0</td>\n",
       "    </tr>\n",
       "    <tr>\n",
       "      <th>...</th>\n",
       "      <td>...</td>\n",
       "      <td>...</td>\n",
       "      <td>...</td>\n",
       "      <td>...</td>\n",
       "      <td>...</td>\n",
       "      <td>...</td>\n",
       "      <td>...</td>\n",
       "      <td>...</td>\n",
       "    </tr>\n",
       "    <tr>\n",
       "      <th>6</th>\n",
       "      <td>660cc0686ca5177d63a41974</td>\n",
       "      <td>2024-03-28</td>\n",
       "      <td>21550.0</td>\n",
       "      <td>-750</td>\n",
       "      <td>22200.0</td>\n",
       "      <td>22300.0</td>\n",
       "      <td>21250.0</td>\n",
       "      <td>690655.0</td>\n",
       "    </tr>\n",
       "    <tr>\n",
       "      <th>5</th>\n",
       "      <td>660cc0686ca5177d63a41973</td>\n",
       "      <td>2024-03-29</td>\n",
       "      <td>21200.0</td>\n",
       "      <td>-350</td>\n",
       "      <td>21600.0</td>\n",
       "      <td>22050.0</td>\n",
       "      <td>21050.0</td>\n",
       "      <td>489268.0</td>\n",
       "    </tr>\n",
       "    <tr>\n",
       "      <th>4</th>\n",
       "      <td>660cc0686ca5177d63a41972</td>\n",
       "      <td>2024-04-01</td>\n",
       "      <td>21950.0</td>\n",
       "      <td>+750</td>\n",
       "      <td>21200.0</td>\n",
       "      <td>22050.0</td>\n",
       "      <td>21200.0</td>\n",
       "      <td>421251.0</td>\n",
       "    </tr>\n",
       "    <tr>\n",
       "      <th>3</th>\n",
       "      <td>660cc0686ca5177d63a41971</td>\n",
       "      <td>2024-04-02</td>\n",
       "      <td>20950.0</td>\n",
       "      <td>-1,000</td>\n",
       "      <td>22000.0</td>\n",
       "      <td>22200.0</td>\n",
       "      <td>20800.0</td>\n",
       "      <td>552331.0</td>\n",
       "    </tr>\n",
       "    <tr>\n",
       "      <th>2</th>\n",
       "      <td>660cc0676ca5177d63a41970</td>\n",
       "      <td>2024-04-03</td>\n",
       "      <td>20650.0</td>\n",
       "      <td>-300</td>\n",
       "      <td>20700.0</td>\n",
       "      <td>20750.0</td>\n",
       "      <td>20450.0</td>\n",
       "      <td>218197.0</td>\n",
       "    </tr>\n",
       "  </tbody>\n",
       "</table>\n",
       "<p>1542 rows × 8 columns</p>\n",
       "</div>"
      ],
      "text/plain": [
       "                           _id       date  end_price daily_change  \\\n",
       "2467  660cc1c86ca5177d63a42311 2017-12-28    17950.0            0   \n",
       "2466  660cc1c86ca5177d63a42310 2018-01-02    17850.0         -100   \n",
       "2462  660cc1c66ca5177d63a4230c 2018-01-03    17350.0         -500   \n",
       "2461  660cc1c66ca5177d63a4230b 2018-01-04    17200.0         -150   \n",
       "2460  660cc1c66ca5177d63a4230a 2018-01-05    17350.0         +150   \n",
       "...                        ...        ...        ...          ...   \n",
       "6     660cc0686ca5177d63a41974 2024-03-28    21550.0         -750   \n",
       "5     660cc0686ca5177d63a41973 2024-03-29    21200.0         -350   \n",
       "4     660cc0686ca5177d63a41972 2024-04-01    21950.0         +750   \n",
       "3     660cc0686ca5177d63a41971 2024-04-02    20950.0       -1,000   \n",
       "2     660cc0676ca5177d63a41970 2024-04-03    20650.0         -300   \n",
       "\n",
       "      start_price  high_price  low_price     trade  \n",
       "2467      18200.0     18250.0    17700.0  101160.0  \n",
       "2466      17800.0     18000.0    17700.0   54415.0  \n",
       "2462      17800.0     17850.0    17250.0  139600.0  \n",
       "2461      17450.0     17450.0    17200.0  143493.0  \n",
       "2460      17200.0     17400.0    17200.0   92601.0  \n",
       "...           ...         ...        ...       ...  \n",
       "6         22200.0     22300.0    21250.0  690655.0  \n",
       "5         21600.0     22050.0    21050.0  489268.0  \n",
       "4         21200.0     22050.0    21200.0  421251.0  \n",
       "3         22000.0     22200.0    20800.0  552331.0  \n",
       "2         20700.0     20750.0    20450.0  218197.0  \n",
       "\n",
       "[1542 rows x 8 columns]"
      ]
     },
     "execution_count": 15,
     "metadata": {},
     "output_type": "execute_result"
    }
   ],
   "source": [
    "stock_data"
   ]
  },
  {
   "cell_type": "code",
   "execution_count": 16,
   "metadata": {},
   "outputs": [],
   "source": [
    "setting_dict = {\n",
    "    'price' : 0.05,\n",
    "    'trade' : 0.5\n",
    "}\n",
    "from tqdm import tqdm\n",
    "\n",
    "def check_point(setting_dict,target,data_list):\n",
    "    overrate = setting_dict.get(target,False)\n",
    "    data_list = data_list.tolist()\n",
    "    check_list = []\n",
    "    for i in tqdm(range(len(data_list))):\n",
    "        # 전날과 비교할 수 없는 1번재 날 제외\n",
    "        if i == 0:\n",
    "            check_list.append(False)\n",
    "        else:\n",
    "            rate = abs((data_list[i-1] - data_list[i])/data_list[i])\n",
    "            if rate >= overrate:\n",
    "                check_list.append(True)\n",
    "            else:\n",
    "                check_list.append(False)\n",
    "        \n",
    "    return check_list    "
   ]
  },
  {
   "cell_type": "code",
   "execution_count": 17,
   "metadata": {},
   "outputs": [
    {
     "data": {
      "text/plain": [
       "2467    101160.0\n",
       "2466     54415.0\n",
       "2462    139600.0\n",
       "2461    143493.0\n",
       "2460     92601.0\n",
       "          ...   \n",
       "6       690655.0\n",
       "5       489268.0\n",
       "4       421251.0\n",
       "3       552331.0\n",
       "2       218197.0\n",
       "Name: trade, Length: 1542, dtype: float64"
      ]
     },
     "execution_count": 17,
     "metadata": {},
     "output_type": "execute_result"
    }
   ],
   "source": [
    "stock_data['trade']"
   ]
  },
  {
   "cell_type": "code",
   "execution_count": 18,
   "metadata": {},
   "outputs": [
    {
     "name": "stderr",
     "output_type": "stream",
     "text": [
      "100%|██████████| 1542/1542 [00:00<00:00, 1538077.71it/s]\n"
     ]
    },
    {
     "data": {
      "text/plain": [
       "1542"
      ]
     },
     "execution_count": 18,
     "metadata": {},
     "output_type": "execute_result"
    }
   ],
   "source": [
    "target = 'trade'\n",
    "get_list = check_point(setting_dict,target,stock_data['trade'])\n",
    "len(get_list)"
   ]
  },
  {
   "cell_type": "code",
   "execution_count": 19,
   "metadata": {},
   "outputs": [],
   "source": [
    "stock_data['trade_checkpoint'] = get_list"
   ]
  },
  {
   "cell_type": "code",
   "execution_count": 20,
   "metadata": {},
   "outputs": [
    {
     "name": "stderr",
     "output_type": "stream",
     "text": [
      "100%|██████████| 1542/1542 [00:00<?, ?it/s]\n"
     ]
    }
   ],
   "source": [
    "target = 'price'\n",
    "get_list = check_point(setting_dict,target,stock_data['end_price'])"
   ]
  },
  {
   "cell_type": "code",
   "execution_count": 21,
   "metadata": {},
   "outputs": [],
   "source": [
    "stock_data['price_checkpoint'] = get_list"
   ]
  },
  {
   "cell_type": "code",
   "execution_count": 22,
   "metadata": {},
   "outputs": [
    {
     "data": {
      "text/html": [
       "<div>\n",
       "<style scoped>\n",
       "    .dataframe tbody tr th:only-of-type {\n",
       "        vertical-align: middle;\n",
       "    }\n",
       "\n",
       "    .dataframe tbody tr th {\n",
       "        vertical-align: top;\n",
       "    }\n",
       "\n",
       "    .dataframe thead th {\n",
       "        text-align: right;\n",
       "    }\n",
       "</style>\n",
       "<table border=\"1\" class=\"dataframe\">\n",
       "  <thead>\n",
       "    <tr style=\"text-align: right;\">\n",
       "      <th></th>\n",
       "      <th>_id</th>\n",
       "      <th>date</th>\n",
       "      <th>end_price</th>\n",
       "      <th>daily_change</th>\n",
       "      <th>start_price</th>\n",
       "      <th>high_price</th>\n",
       "      <th>low_price</th>\n",
       "      <th>trade</th>\n",
       "      <th>trade_checkpoint</th>\n",
       "      <th>price_checkpoint</th>\n",
       "    </tr>\n",
       "  </thead>\n",
       "  <tbody>\n",
       "    <tr>\n",
       "      <th>2467</th>\n",
       "      <td>660cc1c86ca5177d63a42311</td>\n",
       "      <td>2017-12-28</td>\n",
       "      <td>17950.0</td>\n",
       "      <td>0</td>\n",
       "      <td>18200.0</td>\n",
       "      <td>18250.0</td>\n",
       "      <td>17700.0</td>\n",
       "      <td>101160.0</td>\n",
       "      <td>False</td>\n",
       "      <td>False</td>\n",
       "    </tr>\n",
       "    <tr>\n",
       "      <th>2466</th>\n",
       "      <td>660cc1c86ca5177d63a42310</td>\n",
       "      <td>2018-01-02</td>\n",
       "      <td>17850.0</td>\n",
       "      <td>-100</td>\n",
       "      <td>17800.0</td>\n",
       "      <td>18000.0</td>\n",
       "      <td>17700.0</td>\n",
       "      <td>54415.0</td>\n",
       "      <td>True</td>\n",
       "      <td>False</td>\n",
       "    </tr>\n",
       "    <tr>\n",
       "      <th>2462</th>\n",
       "      <td>660cc1c66ca5177d63a4230c</td>\n",
       "      <td>2018-01-03</td>\n",
       "      <td>17350.0</td>\n",
       "      <td>-500</td>\n",
       "      <td>17800.0</td>\n",
       "      <td>17850.0</td>\n",
       "      <td>17250.0</td>\n",
       "      <td>139600.0</td>\n",
       "      <td>True</td>\n",
       "      <td>False</td>\n",
       "    </tr>\n",
       "    <tr>\n",
       "      <th>2461</th>\n",
       "      <td>660cc1c66ca5177d63a4230b</td>\n",
       "      <td>2018-01-04</td>\n",
       "      <td>17200.0</td>\n",
       "      <td>-150</td>\n",
       "      <td>17450.0</td>\n",
       "      <td>17450.0</td>\n",
       "      <td>17200.0</td>\n",
       "      <td>143493.0</td>\n",
       "      <td>False</td>\n",
       "      <td>False</td>\n",
       "    </tr>\n",
       "    <tr>\n",
       "      <th>2460</th>\n",
       "      <td>660cc1c66ca5177d63a4230a</td>\n",
       "      <td>2018-01-05</td>\n",
       "      <td>17350.0</td>\n",
       "      <td>+150</td>\n",
       "      <td>17200.0</td>\n",
       "      <td>17400.0</td>\n",
       "      <td>17200.0</td>\n",
       "      <td>92601.0</td>\n",
       "      <td>True</td>\n",
       "      <td>False</td>\n",
       "    </tr>\n",
       "    <tr>\n",
       "      <th>...</th>\n",
       "      <td>...</td>\n",
       "      <td>...</td>\n",
       "      <td>...</td>\n",
       "      <td>...</td>\n",
       "      <td>...</td>\n",
       "      <td>...</td>\n",
       "      <td>...</td>\n",
       "      <td>...</td>\n",
       "      <td>...</td>\n",
       "      <td>...</td>\n",
       "    </tr>\n",
       "    <tr>\n",
       "      <th>6</th>\n",
       "      <td>660cc0686ca5177d63a41974</td>\n",
       "      <td>2024-03-28</td>\n",
       "      <td>21550.0</td>\n",
       "      <td>-750</td>\n",
       "      <td>22200.0</td>\n",
       "      <td>22300.0</td>\n",
       "      <td>21250.0</td>\n",
       "      <td>690655.0</td>\n",
       "      <td>False</td>\n",
       "      <td>False</td>\n",
       "    </tr>\n",
       "    <tr>\n",
       "      <th>5</th>\n",
       "      <td>660cc0686ca5177d63a41973</td>\n",
       "      <td>2024-03-29</td>\n",
       "      <td>21200.0</td>\n",
       "      <td>-350</td>\n",
       "      <td>21600.0</td>\n",
       "      <td>22050.0</td>\n",
       "      <td>21050.0</td>\n",
       "      <td>489268.0</td>\n",
       "      <td>False</td>\n",
       "      <td>False</td>\n",
       "    </tr>\n",
       "    <tr>\n",
       "      <th>4</th>\n",
       "      <td>660cc0686ca5177d63a41972</td>\n",
       "      <td>2024-04-01</td>\n",
       "      <td>21950.0</td>\n",
       "      <td>+750</td>\n",
       "      <td>21200.0</td>\n",
       "      <td>22050.0</td>\n",
       "      <td>21200.0</td>\n",
       "      <td>421251.0</td>\n",
       "      <td>False</td>\n",
       "      <td>False</td>\n",
       "    </tr>\n",
       "    <tr>\n",
       "      <th>3</th>\n",
       "      <td>660cc0686ca5177d63a41971</td>\n",
       "      <td>2024-04-02</td>\n",
       "      <td>20950.0</td>\n",
       "      <td>-1,000</td>\n",
       "      <td>22000.0</td>\n",
       "      <td>22200.0</td>\n",
       "      <td>20800.0</td>\n",
       "      <td>552331.0</td>\n",
       "      <td>False</td>\n",
       "      <td>False</td>\n",
       "    </tr>\n",
       "    <tr>\n",
       "      <th>2</th>\n",
       "      <td>660cc0676ca5177d63a41970</td>\n",
       "      <td>2024-04-03</td>\n",
       "      <td>20650.0</td>\n",
       "      <td>-300</td>\n",
       "      <td>20700.0</td>\n",
       "      <td>20750.0</td>\n",
       "      <td>20450.0</td>\n",
       "      <td>218197.0</td>\n",
       "      <td>True</td>\n",
       "      <td>False</td>\n",
       "    </tr>\n",
       "  </tbody>\n",
       "</table>\n",
       "<p>1542 rows × 10 columns</p>\n",
       "</div>"
      ],
      "text/plain": [
       "                           _id       date  end_price daily_change  \\\n",
       "2467  660cc1c86ca5177d63a42311 2017-12-28    17950.0            0   \n",
       "2466  660cc1c86ca5177d63a42310 2018-01-02    17850.0         -100   \n",
       "2462  660cc1c66ca5177d63a4230c 2018-01-03    17350.0         -500   \n",
       "2461  660cc1c66ca5177d63a4230b 2018-01-04    17200.0         -150   \n",
       "2460  660cc1c66ca5177d63a4230a 2018-01-05    17350.0         +150   \n",
       "...                        ...        ...        ...          ...   \n",
       "6     660cc0686ca5177d63a41974 2024-03-28    21550.0         -750   \n",
       "5     660cc0686ca5177d63a41973 2024-03-29    21200.0         -350   \n",
       "4     660cc0686ca5177d63a41972 2024-04-01    21950.0         +750   \n",
       "3     660cc0686ca5177d63a41971 2024-04-02    20950.0       -1,000   \n",
       "2     660cc0676ca5177d63a41970 2024-04-03    20650.0         -300   \n",
       "\n",
       "      start_price  high_price  low_price     trade  trade_checkpoint  \\\n",
       "2467      18200.0     18250.0    17700.0  101160.0             False   \n",
       "2466      17800.0     18000.0    17700.0   54415.0              True   \n",
       "2462      17800.0     17850.0    17250.0  139600.0              True   \n",
       "2461      17450.0     17450.0    17200.0  143493.0             False   \n",
       "2460      17200.0     17400.0    17200.0   92601.0              True   \n",
       "...           ...         ...        ...       ...               ...   \n",
       "6         22200.0     22300.0    21250.0  690655.0             False   \n",
       "5         21600.0     22050.0    21050.0  489268.0             False   \n",
       "4         21200.0     22050.0    21200.0  421251.0             False   \n",
       "3         22000.0     22200.0    20800.0  552331.0             False   \n",
       "2         20700.0     20750.0    20450.0  218197.0              True   \n",
       "\n",
       "      price_checkpoint  \n",
       "2467             False  \n",
       "2466             False  \n",
       "2462             False  \n",
       "2461             False  \n",
       "2460             False  \n",
       "...                ...  \n",
       "6                False  \n",
       "5                False  \n",
       "4                False  \n",
       "3                False  \n",
       "2                False  \n",
       "\n",
       "[1542 rows x 10 columns]"
      ]
     },
     "execution_count": 22,
     "metadata": {},
     "output_type": "execute_result"
    }
   ],
   "source": [
    "stock_data"
   ]
  },
  {
   "cell_type": "code",
   "execution_count": 23,
   "metadata": {},
   "outputs": [
    {
     "data": {
      "text/plain": [
       "price_checkpoint\n",
       "False    1417\n",
       "True      125\n",
       "Name: count, dtype: int64"
      ]
     },
     "execution_count": 23,
     "metadata": {},
     "output_type": "execute_result"
    }
   ],
   "source": [
    "stock_data['price_checkpoint'].value_counts()"
   ]
  },
  {
   "cell_type": "code",
   "execution_count": 24,
   "metadata": {},
   "outputs": [
    {
     "data": {
      "text/plain": [
       "trade_checkpoint\n",
       "False    1032\n",
       "True      510\n",
       "Name: count, dtype: int64"
      ]
     },
     "execution_count": 24,
     "metadata": {},
     "output_type": "execute_result"
    }
   ],
   "source": [
    "stock_data['trade_checkpoint'].value_counts()"
   ]
  },
  {
   "cell_type": "code",
   "execution_count": 25,
   "metadata": {},
   "outputs": [
    {
     "data": {
      "text/plain": [
       "2467    False\n",
       "2466     True\n",
       "2462     True\n",
       "2461    False\n",
       "2460     True\n",
       "        ...  \n",
       "6       False\n",
       "5       False\n",
       "4       False\n",
       "3       False\n",
       "2        True\n",
       "Name: trade_checkpoint, Length: 1542, dtype: bool"
      ]
     },
     "execution_count": 25,
     "metadata": {},
     "output_type": "execute_result"
    }
   ],
   "source": [
    "stock_data['trade_checkpoint']"
   ]
  },
  {
   "cell_type": "code",
   "execution_count": 26,
   "metadata": {},
   "outputs": [
    {
     "data": {
      "image/png": "[encoded data removed]",
      "text/plain": [
       "<Figure size 800x600 with 1 Axes>"
      ]
     },
     "metadata": {},
     "output_type": "display_data"
    }
   ],
   "source": [
    "import seaborn as sns\n",
    "import matplotlib.pyplot as plt\n",
    "\n",
    "plt.figure(figsize=(8, 6))\n",
    "melted_data = stock_data[['trade_checkpoint','price_checkpoint']].melt(var_name='Checkpoint', value_name='Count')\n",
    "sns.countplot(data=melted_data, palette=['lightgreen', 'lightpink'], x='Checkpoint', hue='Count', hue_order=[True, False])\n",
    "plt.title('Checkpoint Count Plot')\n",
    "plt.xlabel('Checkpoint')\n",
    "plt.ylabel('Count')\n",
    "plt.show()\n"
   ]
  },
  {
   "cell_type": "markdown",
   "metadata": {},
   "source": [
    "- 거래량의 경우 510일 정도 외부요인이 작용하였다고 보여진다.\n",
    "    + 단 이경우, 전날 거래량 변화에 의해 몇일에 걸쳐서 작용할 수 있기 때문에 실제 외부요인은 510개보다 더 적을 것으로 판단된다. (수익 실현화 등)\n",
    "- 가격 변화량의 경우 125일 정도 외부요인이 작용하였다고 보여진다."
   ]
  },
  {
   "cell_type": "markdown",
   "metadata": {},
   "source": [
    "### 거래량 재처리\n",
    "- 거래량은 외부요인이 작용하였다고 보여지는 날(True)부터 지속적인 영향 이후(그 이후 연속적인 True) 외부요인이 사라졌다고 생각되는 날(False)이 2일 이상 지속 되었을 시, 첫째날에만 외부요인이 작용하였다고 판단하도록한다."
   ]
  },
  {
   "cell_type": "code",
   "execution_count": 27,
   "metadata": {},
   "outputs": [
    {
     "data": {
      "text/plain": [
       "2467    False\n",
       "2466     True\n",
       "2462     True\n",
       "2461    False\n",
       "2460     True\n",
       "        ...  \n",
       "6       False\n",
       "5       False\n",
       "4       False\n",
       "3       False\n",
       "2        True\n",
       "Name: trade_checkpoint, Length: 1542, dtype: bool"
      ]
     },
     "execution_count": 27,
     "metadata": {},
     "output_type": "execute_result"
    }
   ],
   "source": [
    "stock_data['trade_checkpoint']"
   ]
  },
  {
   "cell_type": "code",
   "execution_count": 28,
   "metadata": {},
   "outputs": [],
   "source": [
    "# 변환 로직 작성\n",
    "def change_process(get_list):\n",
    "    get_list = get_list.to_list()\n",
    "    remake_list = []\n",
    "    false_counter = 0\n",
    "    true_counter = 0\n",
    "    for i in range(len(get_list)):\n",
    "\n",
    "        boolcheck = get_list[i]\n",
    "\n",
    "        if boolcheck:\n",
    "            false_counter = 0\n",
    "            if true_counter ==0:\n",
    "                remake_list.append(True)\n",
    "                true_counter += 1\n",
    "            else:\n",
    "                remake_list.append(False)\n",
    "\n",
    "        else:\n",
    "            false_counter +=1\n",
    "            remake_list.append(False)\n",
    "            if false_counter == 2:\n",
    "                true_counter = 0\n",
    "                false_counter = 0\n",
    "\n",
    "    return remake_list"
   ]
  },
  {
   "cell_type": "code",
   "execution_count": 29,
   "metadata": {},
   "outputs": [],
   "source": [
    "stock_data['re_trade_checkpoint'] = change_process(stock_data['trade_checkpoint'])"
   ]
  },
  {
   "cell_type": "code",
   "execution_count": 30,
   "metadata": {},
   "outputs": [
    {
     "data": {
      "text/plain": [
       "re_trade_checkpoint\n",
       "False    1327\n",
       "True      215\n",
       "Name: count, dtype: int64"
      ]
     },
     "execution_count": 30,
     "metadata": {},
     "output_type": "execute_result"
    }
   ],
   "source": [
    "stock_data['re_trade_checkpoint'].value_counts()"
   ]
  },
  {
   "cell_type": "markdown",
   "metadata": {},
   "source": [
    "- 510개에서 215개로 구간을 축소하였다."
   ]
  },
  {
   "cell_type": "markdown",
   "metadata": {},
   "source": [
    "- 시각화 (체크포인트와 동일한 외부요인 작용점을 표시)"
   ]
  },
  {
   "cell_type": "code",
   "execution_count": 31,
   "metadata": {},
   "outputs": [
    {
     "data": {
      "image/png": "[encoded data removed]",
      "text/plain": [
       "<Figure size 1000x600 with 1 Axes>"
      ]
     },
     "metadata": {},
     "output_type": "display_data"
    }
   ],
   "source": [
    "highlight_dates = stock_data.loc[stock_data['price_checkpoint'], 'date']\n",
    "highlight_dates_second = stock_data.loc[stock_data['re_trade_checkpoint'], 'date']\n",
    "same_dates = stock_data.loc[stock_data['re_trade_checkpoint'] & stock_data['price_checkpoint'], 'date']\n",
    "\n",
    "\n",
    "# 그래프 그리기\n",
    "plt.figure(figsize=(10, 6))\n",
    "\n",
    "# 주가 라인 플롯\n",
    "sns.lineplot(data=stock_data, x='date', y='end_price')\n",
    "\n",
    "# 특정 날짜에 점으로 표시\n",
    "plt.scatter(x=highlight_dates_second, y=stock_data.loc[stock_data['date'].isin(highlight_dates_second), 'end_price'], color='lightgreen', label='Trade Checkpoint', zorder=2, s=5)\n",
    "plt.scatter(x=highlight_dates, y=stock_data.loc[stock_data['date'].isin(highlight_dates), 'end_price'], color='lightpink', label='price Checkpoint', zorder=3,s=5)\n",
    "plt.scatter(x=same_dates, y=stock_data.loc[stock_data['date'].isin(same_dates), 'end_price'], color='red', label='Overlap Checkpoint', zorder=4, s=30)\n",
    "\n",
    "\n",
    "\n",
    "plt.title('Stock Price with Trade Checkpoint Highlight')\n",
    "plt.xlabel('Date')\n",
    "plt.ylabel('End Price')\n",
    "plt.legend()\n",
    "plt.show()"
   ]
  },
  {
   "cell_type": "code",
   "execution_count": 32,
   "metadata": {},
   "outputs": [
    {
     "data": {
      "text/plain": [
       "310"
      ]
     },
     "execution_count": 32,
     "metadata": {},
     "output_type": "execute_result"
    }
   ],
   "source": [
    "# 확인할 체크포인트의 수\n",
    "len(highlight_dates) + len(highlight_dates_second) - len(same_dates)"
   ]
  },
  {
   "cell_type": "code",
   "execution_count": 33,
   "metadata": {},
   "outputs": [],
   "source": [
    "df_date = pd.concat([highlight_dates,highlight_dates_second])\n",
    "df_date = df_date.drop_duplicates()"
   ]
  },
  {
   "cell_type": "code",
   "execution_count": 34,
   "metadata": {},
   "outputs": [
    {
     "data": {
      "text/plain": [
       "2438   2018-01-24\n",
       "2378   2018-03-23\n",
       "2318   2018-05-16\n",
       "2317   2018-05-17\n",
       "2278   2018-06-25\n",
       "          ...    \n",
       "26     2024-03-13\n",
       "20     2024-03-18\n",
       "13     2024-03-22\n",
       "10     2024-03-27\n",
       "2      2024-04-03\n",
       "Name: date, Length: 310, dtype: datetime64[ns]"
      ]
     },
     "execution_count": 34,
     "metadata": {},
     "output_type": "execute_result"
    }
   ],
   "source": [
    "df_date"
   ]
  },
  {
   "cell_type": "code",
   "execution_count": 35,
   "metadata": {},
   "outputs": [],
   "source": [
    "import pickle\n",
    "\n",
    "with open(\"./pickles/date_dataframe.pkl\", \"wb\") as f:\n",
    "    pickle.dump(df_date, f)"
   ]
  }
 ],
 "metadata": {
  "kernelspec": {
   "display_name": "Python 3 (ipykernel)",
   "language": "python",
   "name": "python3"
  },
  "language_info": {
   "codemirror_mode": {
    "name": "ipython",
    "version": 3
   },
   "file_extension": ".py",
   "mimetype": "text/x-python",
   "name": "python",
   "nbconvert_exporter": "python",
   "pygments_lexer": "ipython3",
   "version": "3.11.9"
  }
 },
 "nbformat": 4,
 "nbformat_minor": 4
}
